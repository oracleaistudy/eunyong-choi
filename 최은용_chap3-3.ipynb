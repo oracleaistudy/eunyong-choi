{
 "cells": [
  {
   "cell_type": "markdown",
   "id": "ca8676e2",
   "metadata": {},
   "source": [
    "### 3-3 특성 공학과 규제 \n",
    "#### > 다중회귀(multiple regression): 여러 개의 feature를 사용한 선형 회귀\n",
    "#### > feature가 2개면 타깃값과 함께 3차원 공간을 형성\n",
    "#### > 특성공학(feature engineering): 각 특성을 서로 곱해서 또 다른 특성을 만듦\n",
    "\n",
    "#### > keyword: 다중회귀, 특성공학, 릿지, 라쏘 ,하이퍼파라미터(alpha)\n",
    "#### > 핵심패키지와 함수: read_csv, PolynomialFeatures, Ridge, Lasso"
   ]
  },
  {
   "cell_type": "markdown",
   "id": "6581a384",
   "metadata": {},
   "source": [
    "#### 데이터 준비"
   ]
  },
  {
   "cell_type": "code",
   "execution_count": 8,
   "id": "d22b1b33",
   "metadata": {},
   "outputs": [
    {
     "data": {
      "text/html": [
       "<div>\n",
       "<style scoped>\n",
       "    .dataframe tbody tr th:only-of-type {\n",
       "        vertical-align: middle;\n",
       "    }\n",
       "\n",
       "    .dataframe tbody tr th {\n",
       "        vertical-align: top;\n",
       "    }\n",
       "\n",
       "    .dataframe thead th {\n",
       "        text-align: right;\n",
       "    }\n",
       "</style>\n",
       "<table border=\"1\" class=\"dataframe\">\n",
       "  <thead>\n",
       "    <tr style=\"text-align: right;\">\n",
       "      <th></th>\n",
       "      <th>length</th>\n",
       "      <th>height</th>\n",
       "      <th>width</th>\n",
       "    </tr>\n",
       "  </thead>\n",
       "  <tbody>\n",
       "    <tr>\n",
       "      <th>0</th>\n",
       "      <td>8.4</td>\n",
       "      <td>2.11</td>\n",
       "      <td>1.41</td>\n",
       "    </tr>\n",
       "    <tr>\n",
       "      <th>1</th>\n",
       "      <td>13.7</td>\n",
       "      <td>3.53</td>\n",
       "      <td>2.00</td>\n",
       "    </tr>\n",
       "    <tr>\n",
       "      <th>2</th>\n",
       "      <td>15.0</td>\n",
       "      <td>3.82</td>\n",
       "      <td>2.43</td>\n",
       "    </tr>\n",
       "    <tr>\n",
       "      <th>3</th>\n",
       "      <td>16.2</td>\n",
       "      <td>4.59</td>\n",
       "      <td>2.63</td>\n",
       "    </tr>\n",
       "    <tr>\n",
       "      <th>4</th>\n",
       "      <td>17.4</td>\n",
       "      <td>4.59</td>\n",
       "      <td>2.94</td>\n",
       "    </tr>\n",
       "  </tbody>\n",
       "</table>\n",
       "</div>"
      ],
      "text/plain": [
       "   length   height   width\n",
       "0     8.4     2.11    1.41\n",
       "1    13.7     3.53    2.00\n",
       "2    15.0     3.82    2.43\n",
       "3    16.2     4.59    2.63\n",
       "4    17.4     4.59    2.94"
      ]
     },
     "execution_count": 8,
     "metadata": {},
     "output_type": "execute_result"
    }
   ],
   "source": [
    "#판다스(데이터 분석 라이브러리)\n",
    "#판다스는 csv 파일의 첫 줄을 자동으로 인식해 열 제목으로 만들어줌\n",
    "\n",
    "import pandas as pd\n",
    "perch_full = pd.read_csv('http://bit.ly/perch_csv_data')\n",
    "perch_full.head()\n",
    "\n"
   ]
  },
  {
   "cell_type": "code",
   "execution_count": 9,
   "id": "93e31aac",
   "metadata": {},
   "outputs": [],
   "source": [
    "import numpy as np\n",
    "perch_weight = np.array([5.9, 32.0, 40.0, 51.5, 70.0, 100.0, 78.0, 80.0, 85.0, 85.0, 110.0,\n",
    "       115.0, 125.0, 130.0, 120.0, 120.0, 130.0, 135.0, 110.0, 130.0,\n",
    "       150.0, 145.0, 150.0, 170.0, 225.0, 145.0, 188.0, 180.0, 197.0,\n",
    "       218.0, 300.0, 260.0, 265.0, 250.0, 250.0, 300.0, 320.0, 514.0,\n",
    "       556.0, 840.0, 685.0, 700.0, 700.0, 690.0, 900.0, 650.0, 820.0,\n",
    "       850.0, 900.0, 1015.0, 820.0, 1100.0, 1000.0, 1100.0, 1000.0,\n",
    "       1000.0])"
   ]
  },
  {
   "cell_type": "code",
   "execution_count": 10,
   "id": "6389f1ed",
   "metadata": {},
   "outputs": [],
   "source": [
    "#훈련세트와 테스트세트 나누기\n",
    "\n",
    "from sklearn.model_selection import train_test_split\n",
    "train_input, test_input, train_target, test_target = train_test_split(\n",
    "    perch_full, perch_weight, random_state=42)"
   ]
  },
  {
   "cell_type": "markdown",
   "id": "35b279ce",
   "metadata": {},
   "source": [
    "##### 사이킷런의 변환기 클래스: 특성을 만들거나 전처리 하는 클래스\n",
    "##### 변환기(transformer): 변환기 클래스는 fit(), transform() method 제공"
   ]
  },
  {
   "cell_type": "code",
   "execution_count": 11,
   "id": "c9da17d9",
   "metadata": {},
   "outputs": [
    {
     "name": "stdout",
     "output_type": "stream",
     "text": [
      "[[1. 2. 3. 4. 6. 9.]]\n"
     ]
    }
   ],
   "source": [
    "#preprocessing 모듈에 PolynomialFeatures 클래스 포함됨 \n",
    "#특성이 2,3인 샘플\n",
    "\n",
    "from sklearn.preprocessing import PolynomialFeatures\n",
    "poly = PolynomialFeatures()\n",
    "\n",
    "#poly.fit() method는 새롭게 만들 특성의 조합을 찾음\n",
    "#변환기는 입력데이터를 반환하는데 타깃데이터가 필요하지 않음\n",
    "poly.fit([[2,3]])\n",
    "\n",
    "#poly.transform method는 실레로 데이터로 변환\n",
    "print(poly.transform([[2,3]]))\n",
    "\n",
    "#PolynomialFeatures는 기본적으로 각 원소의 제곱값과, 원소끼리 곱한 값을 반환함\n",
    "#2의 제곱값, 3의 제곱값, 2*3 곱한값 \n",
    "#무게=a*길이 + b*높이 + c*두께 + d*1 : 선형 방정싯의 절편을 항상 값이 1인 특성과 곱해지는 계수 (길이, 높이, 두께, 1)"
   ]
  },
  {
   "cell_type": "code",
   "execution_count": 12,
   "id": "a2d7658d",
   "metadata": {},
   "outputs": [
    {
     "name": "stdout",
     "output_type": "stream",
     "text": [
      "[[2. 3. 4. 6. 9.]]\n"
     ]
    }
   ],
   "source": [
    "#절편을 위한 항을 제거(사이킷런 모델은 자동으로 특성에 추가된 절편 항을 무시함)\n",
    "\n",
    "poly = PolynomialFeatures(include_bias=False)\n",
    "poly.fit([[2,3]])\n",
    "print(poly.transform([[2,3]]))"
   ]
  },
  {
   "cell_type": "code",
   "execution_count": null,
   "id": "0d7a4ba0",
   "metadata": {},
   "outputs": [
    {
     "name": "stdout",
     "output_type": "stream",
     "text": [
      "(42, 9)\n"
     ]
    }
   ],
   "source": [
    "#훈련세트에 적용\n",
    "\n",
    "poly = PolynomialFeatures(include_bias=False)\n",
    "poly.fit(train_input)\n",
    "train_poly = poly.transform(train_input)\n",
    "print(train_poly.shape)"
   ]
  },
  {
   "cell_type": "code",
   "execution_count": null,
   "id": "eee0ce30",
   "metadata": {},
   "outputs": [
    {
     "data": {
      "text/plain": [
       "array(['length', ' height', ' width', 'length^2', 'length  height',\n",
       "       'length  width', ' height^2', ' height  width', ' width^2'],\n",
       "      dtype=object)"
      ]
     },
     "execution_count": 14,
     "metadata": {},
     "output_type": "execute_result"
    }
   ],
   "source": [
    "#생성된 9개의 특성 확인\n",
    "\n",
    "poly.get_feature_names_out()"
   ]
  },
  {
   "cell_type": "code",
   "execution_count": 19,
   "id": "2eeeebb4",
   "metadata": {},
   "outputs": [],
   "source": [
    "#테스트세트에 적용\n",
    "test_poly= poly.transform(test_input)"
   ]
  },
  {
   "cell_type": "markdown",
   "id": "1e63292f",
   "metadata": {},
   "source": [
    "#### 다중 회귀 모델 훈련하기"
   ]
  },
  {
   "cell_type": "code",
   "execution_count": null,
   "id": "3bc0fd33",
   "metadata": {},
   "outputs": [
    {
     "name": "stdout",
     "output_type": "stream",
     "text": [
      "0.9903183436982125\n"
     ]
    }
   ],
   "source": [
    "#train_poly를 사용해 모델 훈련\n",
    "\n",
    "from sklearn.linear_model import LinearRegression\n",
    "lr = LinearRegression()\n",
    "lr.fit(train_poly, train_target)\n",
    "print(lr.score(train_poly, train_target))"
   ]
  },
  {
   "cell_type": "code",
   "execution_count": null,
   "id": "5e51494d",
   "metadata": {},
   "outputs": [
    {
     "name": "stdout",
     "output_type": "stream",
     "text": [
      "0.9714559911594155\n"
     ]
    }
   ],
   "source": [
    "#teat_poly를 사용해 모델 훈련\n",
    "\n",
    "print(lr.score(test_poly, test_target))"
   ]
  },
  {
   "cell_type": "code",
   "execution_count": null,
   "id": "a2d84431",
   "metadata": {},
   "outputs": [
    {
     "name": "stdout",
     "output_type": "stream",
     "text": [
      "(42, 55)\n"
     ]
    }
   ],
   "source": [
    "#고차항의 최대 차수를 지정하여 3제곱, 4제곱 항을 넣기\n",
    "\n",
    "poly = PolynomialFeatures (degree=5, include_bias=False)\n",
    "poly.fit(train_input)\n",
    "train_poly = poly.transform(train_input)\n",
    "test_poly = poly.transform(test_input)\n",
    "print(train_poly.shape)"
   ]
  },
  {
   "cell_type": "code",
   "execution_count": 23,
   "id": "8943d7e3",
   "metadata": {},
   "outputs": [
    {
     "name": "stdout",
     "output_type": "stream",
     "text": [
      "0.9999999999938143\n"
     ]
    }
   ],
   "source": [
    "lr.fit(train_poly, train_target)\n",
    "print(lr.score(train_poly, train_target))"
   ]
  },
  {
   "cell_type": "code",
   "execution_count": null,
   "id": "3f23607f",
   "metadata": {},
   "outputs": [
    {
     "name": "stdout",
     "output_type": "stream",
     "text": [
      "-144.40744533753661\n"
     ]
    }
   ],
   "source": [
    "print(lr.score(test_poly, test_target))\n",
    "\n",
    "#훈련세트에는 거의 완벽하게 학습했지만, 훈련세트에 너무 overfitting되서 테스트 세트에서는 형편없음"
   ]
  },
  {
   "attachments": {
    "image.png": {
     "image/png": "[encoded data removed]"
    }
   },
   "cell_type": "markdown",
   "id": "1730566f",
   "metadata": {},
   "source": [
    "#### 규제(regularization): 머신러닝 모델이 훈련 세트를 너무 과도하게 학습하지 못하도록 훼방 -> 선형 회귀 모델의 경우 계수 or 기울기의 크기를 작게 만드는 일\n",
    "![image.png](attachment:image.png)\n",
    "#### > 기울기 값의 크기가 서로 많이 다르면 공정하게 제어가 되지 않음\n",
    "#### > 규제를 적용하기 전 정규화를 진행 -> StandardScaler 클래스를 사용"
   ]
  },
  {
   "cell_type": "code",
   "execution_count": null,
   "id": "eba57f22",
   "metadata": {},
   "outputs": [],
   "source": [
    "from sklearn.preprocessing import StandardScaler\n",
    "ss = StandardScaler()\n",
    "ss.fit(train_poly)                       #train _poly로 객체 훈련\n",
    "train_scaled = ss.transform(train_poly)  #표준점수로 변환한 세트\n",
    "test_scaled = ss.transform(test_poly)\n",
    "\n",
    "#훈련 세트에서 학습한 평균과 표준편차는 StandardScaler 클래스 객체의 mean_, scale_속성에 저장. 특성마다 계산함으로 55개의 평균과 표준편차가 저장됨."
   ]
  },
  {
   "cell_type": "markdown",
   "id": "65ad2d60",
   "metadata": {},
   "source": [
    "#### 선형 회귀 모델에 규제를 추가한 모델을 릿지(ridge)와 라쏘(lasso)라 부름\n",
    "#### 릿지: 계수(기울기)를 제곱한 값을 기준으로 규제 적용 -> 일반적으로 릿지를 조금 더 선호 \n",
    "#### 라쏘: 계수(기울기)의 절대값을 기준으로 규제 적용  "
   ]
  },
  {
   "cell_type": "code",
   "execution_count": 31,
   "id": "4f4502eb",
   "metadata": {},
   "outputs": [
    {
     "name": "stdout",
     "output_type": "stream",
     "text": [
      "0.9896101671037343\n"
     ]
    }
   ],
   "source": [
    "# 릿지 회귀 \n",
    "from sklearn.linear_model import Ridge\n",
    "ridge = Ridge()\n",
    "ridge.fit(train_scaled, train_target)\n",
    "print(ridge.score(train_scaled, train_target))"
   ]
  },
  {
   "cell_type": "code",
   "execution_count": 32,
   "id": "3f97332a",
   "metadata": {},
   "outputs": [
    {
     "name": "stdout",
     "output_type": "stream",
     "text": [
      "0.9790693977615375\n"
     ]
    }
   ],
   "source": [
    "#테스트 세트에 대한 점수 확인\n",
    "print(ridge.score(test_scaled,test_target))"
   ]
  },
  {
   "cell_type": "code",
   "execution_count": 33,
   "id": "adebd6c3",
   "metadata": {},
   "outputs": [],
   "source": [
    "#적절한 alpha값은 alpha값에 대한 R2값의 그래프 그려보는 것\n",
    "#alpha 값을 바꿀때마다 score() method 결과를 저장할 리스트 만듦\n",
    "import matplotlib.pyplot as plt\n",
    "train_score =[]\n",
    "test_score=[]"
   ]
  },
  {
   "cell_type": "code",
   "execution_count": 35,
   "id": "0b2bf4d4",
   "metadata": {},
   "outputs": [],
   "source": [
    "alpha_list=[0.001, 0.01, 0.1, 1, 10, 100]\n",
    "for alpha in alpha_list:\n",
    "    #릿지 모델 제작 \n",
    "    ridge = Ridge(alpha=alpha)\n",
    "    #릿지 모델 훈련 \n",
    "    ridge.fit(train_scaled, train_target)\n",
    "    #훈련 점수와 테스트 점수 저장\n",
    "    train_score.append(ridge.score(train_scaled, train_target))\n",
    "    test_score.append(ridge.score(test_scaled, test_target))"
   ]
  },
  {
   "cell_type": "code",
   "execution_count": null,
   "id": "453e45e0",
   "metadata": {},
   "outputs": [
    {
     "data": {
      "image/png": "[encoded data removed]",
      "text/plain": [
       "<Figure size 640x480 with 1 Axes>"
      ]
     },
     "metadata": {},
     "output_type": "display_data"
    }
   ],
   "source": [
    "plt.plot(alpha_list,train_score)\n",
    "plt.plot(alpha_list,test_score)\n",
    "plt.xscale('log')\n",
    "plt.xlabel('alpha')\n",
    "plt.ylabel('R^2')\n",
    "plt.show()\n",
    "\n",
    "#훈련세트 그래프와 테스트세트 그래프에서 가장 가까운 alpha값 = 0.1"
   ]
  },
  {
   "cell_type": "code",
   "execution_count": 38,
   "id": "192e7ba1",
   "metadata": {},
   "outputs": [
    {
     "name": "stdout",
     "output_type": "stream",
     "text": [
      "0.9903815817570367\n",
      "0.9827976465386995\n"
     ]
    }
   ],
   "source": [
    "ridge= Ridge(alpha=0.1)\n",
    "ridge.fit(train_scaled, train_target)\n",
    "print(ridge.score(train_scaled, train_target))\n",
    "print(ridge.score(test_scaled, test_target))\n"
   ]
  },
  {
   "cell_type": "markdown",
   "id": "ce7ab3f6",
   "metadata": {},
   "source": [
    "#### 라쏘 회귀"
   ]
  },
  {
   "cell_type": "code",
   "execution_count": null,
   "id": "2ceba6d9",
   "metadata": {},
   "outputs": [
    {
     "name": "stdout",
     "output_type": "stream",
     "text": [
      "0.989789897208096\n"
     ]
    }
   ],
   "source": [
    "#릿지 모델과 동일하게 라쏘 모델도 훈련\n",
    "from sklearn.linear_model import Lasso\n",
    "lasso = Lasso()\n",
    "lasso.fit(train_scaled, train_target)\n",
    "print(lasso.score(train_scaled,train_target))"
   ]
  },
  {
   "cell_type": "code",
   "execution_count": 40,
   "id": "f7157c7d",
   "metadata": {},
   "outputs": [
    {
     "name": "stdout",
     "output_type": "stream",
     "text": [
      "0.9800593698421886\n"
     ]
    }
   ],
   "source": [
    "print(lasso.score(test_scaled, test_target))"
   ]
  },
  {
   "cell_type": "code",
   "execution_count": 43,
   "id": "d22edeca",
   "metadata": {},
   "outputs": [
    {
     "name": "stderr",
     "output_type": "stream",
     "text": [
      "/home/user/anaconda3/envs/ai-study/lib/python3.10/site-packages/sklearn/linear_model/_coordinate_descent.py:695: ConvergenceWarning: Objective did not converge. You might want to increase the number of iterations, check the scale of the features or consider increasing regularisation. Duality gap: 1.878e+04, tolerance: 5.183e+02\n",
      "  model = cd_fast.enet_coordinate_descent(\n",
      "/home/user/anaconda3/envs/ai-study/lib/python3.10/site-packages/sklearn/linear_model/_coordinate_descent.py:695: ConvergenceWarning: Objective did not converge. You might want to increase the number of iterations, check the scale of the features or consider increasing regularisation. Duality gap: 1.297e+04, tolerance: 5.183e+02\n",
      "  model = cd_fast.enet_coordinate_descent(\n"
     ]
    }
   ],
   "source": [
    "#릿지 모델과 동일하게 적절한 alpha 값을 찾아 모델 최적화 \n",
    "train_score = []\n",
    "test_score = []\n",
    "\n",
    "alpha_list = [0.001, 0.01, 0.1, 1, 10, 100]\n",
    "for alpha in alpha_list:\n",
    "    #라쏘 모델 제작\n",
    "    lasso = Lasso(alpha=alpha, max_iter=10000)\n",
    "    #라쏘 모델 훈련 \n",
    "    lasso.fit(train_scaled, train_target)\n",
    "    #훈련점수와 테스트 점수 저장 \n",
    "    train_score.append(lasso.score(train_scaled, train_target))\n",
    "    test_score.append(lasso.score(test_scaled, test_target))"
   ]
  },
  {
   "cell_type": "code",
   "execution_count": null,
   "id": "a4d70624",
   "metadata": {},
   "outputs": [
    {
     "data": {
      "image/png": "[encoded data removed]",
      "text/plain": [
       "<Figure size 640x480 with 1 Axes>"
      ]
     },
     "metadata": {},
     "output_type": "display_data"
    }
   ],
   "source": [
    "plt.plot(alpha_list, train_score)\n",
    "plt.plot(alpha_list, test_score)\n",
    "plt.xscale('log')\n",
    "plt.xlabel('alpha')\n",
    "plt.ylabel('R^2')\n",
    "plt.show()\n",
    "\n",
    "#라쏘 모델에서 가장 적합한 alpha 값은 10"
   ]
  },
  {
   "cell_type": "code",
   "execution_count": null,
   "id": "c6af875c",
   "metadata": {},
   "outputs": [
    {
     "name": "stdout",
     "output_type": "stream",
     "text": [
      "0.9888067471131866\n",
      "0.9824470598706695\n"
     ]
    }
   ],
   "source": [
    "#적합한 alpha값으로 라쏘모델 다시 훈련 \n",
    "\n",
    "lasso = Lasso(alpha=10)\n",
    "lasso.fit(train_scaled, train_target)\n",
    "print(lasso.score(train_scaled, train_target))\n",
    "print(lasso.score(test_scaled, test_target))\n"
   ]
  },
  {
   "cell_type": "code",
   "execution_count": null,
   "id": "9065e0ea",
   "metadata": {},
   "outputs": [
    {
     "name": "stdout",
     "output_type": "stream",
     "text": [
      "40\n"
     ]
    }
   ],
   "source": [
    "#라쏘 모델에서 꼐수가 0인 것의 갯수\n",
    "print(np.sum(lasso.coef_==0))\n",
    "\n",
    "#55개의 특성을 모델에 주입했지만 라쏘모델이 활용한 특성은 15개 ->라쏘 모델은 유용한 특성을 골라내는 용도로 사용 가능"
   ]
  }
 ],
 "metadata": {
  "kernelspec": {
   "display_name": "ai-study",
   "language": "python",
   "name": "python3"
  },
  "language_info": {
   "codemirror_mode": {
    "name": "ipython",
    "version": 3
   },
   "file_extension": ".py",
   "mimetype": "text/x-python",
   "name": "python",
   "nbconvert_exporter": "python",
   "pygments_lexer": "ipython3",
   "version": "3.10.18"
  }
 },
 "nbformat": 4,
 "nbformat_minor": 5
}
