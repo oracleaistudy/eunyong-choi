{
 "cells": [
  {
   "cell_type": "markdown",
   "id": "35ad6a01",
   "metadata": {},
   "source": [
    "# Chapter3 회귀 알고리즘과 모델 규제 \n",
    "## 03-1 k-최근접 이웃 회귀\n",
    "### 목적1: 지도 학습의 한 종류인 회귀 문제를 이해\n",
    "### 목적2: K-최근접 이웃 알고리즘을 사용해 농어의 무게 예측하는 회귀 문제 풀기\n",
    "### Keyword: k-최근접회귀, 결정계수(R2), 과대적합, 과소적합\n",
    "### 핵심패키지 and 함수: KNneighborsRegressor, mean_absolute_error(), reshape()"
   ]
  },
  {
   "cell_type": "code",
   "execution_count": 2,
   "id": "4083c3cd",
   "metadata": {},
   "outputs": [
    {
     "data": {
      "image/png": "[encoded data removed]",
      "text/plain": [
       "<Figure size 640x480 with 1 Axes>"
      ]
     },
     "metadata": {},
     "output_type": "display_data"
    }
   ],
   "source": [
    "#농어의 길이와 무게 불러오기\n",
    "\n",
    "import numpy as np \n",
    "perch_length = np.array([8.4, 13.7, 15.0, 16.2, 17.4, 18.0, 18.7, 19.0, 19.6, 20.0, 21.0,\n",
    "       21.0, 21.0, 21.3, 22.0, 22.0, 22.0, 22.0, 22.0, 22.5, 22.5, 22.7,\n",
    "       23.0, 23.5, 24.0, 24.0, 24.6, 25.0, 25.6, 26.5, 27.3, 27.5, 27.5,\n",
    "       27.5, 28.0, 28.7, 30.0, 32.8, 34.5, 35.0, 36.5, 36.0, 37.0, 37.0,\n",
    "       39.0, 39.0, 39.0, 40.0, 40.0, 40.0, 40.0, 42.0, 43.0, 43.0, 43.5,\n",
    "       44.0])\n",
    "perch_weight = np.array([5.9, 32.0, 40.0, 51.5, 70.0, 100.0, 78.0, 80.0, 85.0, 85.0, 110.0,\n",
    "       115.0, 125.0, 130.0, 120.0, 120.0, 130.0, 135.0, 110.0, 130.0,\n",
    "       150.0, 145.0, 150.0, 170.0, 225.0, 145.0, 188.0, 180.0, 197.0,\n",
    "       218.0, 300.0, 260.0, 265.0, 250.0, 250.0, 300.0, 320.0, 514.0,\n",
    "       556.0, 840.0, 685.0, 700.0, 700.0, 690.0, 900.0, 650.0, 820.0,\n",
    "       850.0, 900.0, 1015.0, 820.0, 1100.0, 1000.0, 1100.0, 1000.0,\n",
    "       1000.0])\n",
    "\n",
    "import matplotlib.pyplot as plt\n",
    "plt.scatter(perch_length,perch_weight)\n",
    "plt.xlabel('length')\n",
    "plt.ylabel('weight')\n",
    "plt.show()"
   ]
  },
  {
   "cell_type": "code",
   "execution_count": 3,
   "id": "eed19388",
   "metadata": {},
   "outputs": [],
   "source": [
    "#훈련세트와 데이터 세트로 나눈다 \n",
    "\n",
    "from sklearn.model_selection import train_test_split   #train_test_split() 함수\n",
    "train_input, test_input, train_target, test_target = train_test_split(\n",
    "    perch_length, perch_weight, random_state=42)"
   ]
  },
  {
   "cell_type": "code",
   "execution_count": 4,
   "id": "bccf591e",
   "metadata": {},
   "outputs": [
    {
     "name": "stdout",
     "output_type": "stream",
     "text": [
      "(4,)\n"
     ]
    }
   ],
   "source": [
    "#사이킷런에서는 2차원 배열로 바꿔야함\n",
    "#이번 예제는 feature 1개만 사용함으로 수동으로 2차원 배열 제작\n",
    "\n",
    "#1차원 배열 확인\n",
    "test_array = np.array ([1,2,3,4])\n",
    "print(test_array.shape)"
   ]
  },
  {
   "cell_type": "code",
   "execution_count": 7,
   "id": "97363ec2",
   "metadata": {},
   "outputs": [
    {
     "name": "stdout",
     "output_type": "stream",
     "text": [
      "(2, 2)\n"
     ]
    }
   ],
   "source": [
    "#(2,2) 배열 변경 \n",
    "#reshape method 사용\n",
    "test_array = test_array.reshape(2,2)\n",
    "print(test_array.shape)"
   ]
  },
  {
   "cell_type": "code",
   "execution_count": null,
   "id": "3fab608a",
   "metadata": {},
   "outputs": [
    {
     "ename": "AttributeError",
     "evalue": "'numpy.ndarray' object has no attribute 'reshaep'",
     "output_type": "error",
     "traceback": [
      "\u001b[0;31m---------------------------------------------------------------------------\u001b[0m",
      "\u001b[0;31mAttributeError\u001b[0m                            Traceback (most recent call last)",
      "Cell \u001b[0;32mIn[6], line 1\u001b[0m\n\u001b[0;32m----> 1\u001b[0m test_array \u001b[38;5;241m=\u001b[39m\u001b[43mtest_array\u001b[49m\u001b[38;5;241;43m.\u001b[39;49m\u001b[43mreshaep\u001b[49m(\u001b[38;5;241m2\u001b[39m, \u001b[38;5;241m3\u001b[39m)\n\u001b[1;32m      2\u001b[0m \u001b[38;5;28mprint\u001b[39m(test_array\u001b[38;5;241m.\u001b[39mshape)\n",
      "\u001b[0;31mAttributeError\u001b[0m: 'numpy.ndarray' object has no attribute 'reshaep'"
     ]
    }
   ],
   "source": [
    "#에러상황: array의 배열이(4,)이기 때문에 원소의 갯수는 4임. (2,3)의 경우 원소의 갯수가 6이기 때문에 원소의 갯수가 맞이 않아 에러가 남\n",
    "test_array =test_array.reshaep(2, 3)\n",
    "print(test_array.shape)"
   ]
  },
  {
   "cell_type": "code",
   "execution_count": null,
   "id": "580f74c0",
   "metadata": {},
   "outputs": [
    {
     "name": "stdout",
     "output_type": "stream",
     "text": [
      "(42, 1) (14, 1)\n"
     ]
    }
   ],
   "source": [
    "#배열의 크기를 자동으로 지정하는 기능\n",
    "#크기에 -1을 지정하면 다른 차원을 채우고 남은 원소에 맞게 차원 지정\n",
    "#reshpae(-1,1)\n",
    "train_input = train_input.reshape(-1,1)\n",
    "test_input = test_input.reshape(-1,1)\n",
    "print(train_input.shape, test_input.shape)"
   ]
  },
  {
   "cell_type": "code",
   "execution_count": null,
   "id": "cf273ddb",
   "metadata": {},
   "outputs": [
    {
     "name": "stdout",
     "output_type": "stream",
     "text": [
      "0.992809406101064\n"
     ]
    }
   ],
   "source": [
    "#K-최근접 이웃 회귀 알고리즘(KNeighborsRegressor)\n",
    "from sklearn.neighbors import KNeighborsRegressor\n",
    "knr = KNeighborsRegressor()\n",
    "knr.fit(train_input, train_target)\n",
    "\n",
    "#결정계수(coefficient of determination), R2= (타킷-예측)2의 합/(타깃-평균)2의 합\n",
    "#타깃의 평균 정도를 예측하는 수준(분자와 분모가 비슷, R2은 0에 가까움)\n",
    "#예측이 타킷에 아주 가까워짐(분자가 0에 가까워짐, R2는 1에 가까움)\n",
    "print(knr.score(test_input,test_target))"
   ]
  },
  {
   "cell_type": "code",
   "execution_count": null,
   "id": "bf16b36e",
   "metadata": {},
   "outputs": [
    {
     "name": "stdout",
     "output_type": "stream",
     "text": [
      "19.157142857142862\n"
     ]
    }
   ],
   "source": [
    "#타깃과 예측한 값 사이의 차이-> 예측이 어느 정도 벗어났는지 가늠\n",
    "#패키지: sklearn.metrics\n",
    "#함수: mean_absolute_error (절대값 오차의 평균) \n",
    "from sklearn.metrics import mean_absolute_error\n",
    "test_prediction = knr.predict(test_input)\n",
    "mae = mean_absolute_error(test_target, test_prediction)\n",
    "print(mae)\n",
    "\n",
    "#결과:결과에서 예측이 평균적으로 19g 정도 타깃값과 다름"
   ]
  },
  {
   "cell_type": "markdown",
   "id": "fad4efdd",
   "metadata": {},
   "source": [
    "# 과대적합 vs 과소적합\n",
    "### 과대적합(overfitting): 훈련세트 점수 > 테스트 세트 점수 (훈련세트에만 잘 맞는 모델)\n",
    "### 과소적합(underfitting): 훈련세트 점수 < 테스트 세트 점수 or 두 점수가 모두 낮을때\n",
    "### 과소적합의 원인 1) 모델이 단순하여 훈련 세트에 적절히 훈련되지 않은 경우\n",
    "###                 2) 훈련세트와 테스트 세트의 크기가 작을 떄"
   ]
  },
  {
   "cell_type": "code",
   "execution_count": null,
   "id": "4d1abd80",
   "metadata": {},
   "outputs": [
    {
     "name": "stdout",
     "output_type": "stream",
     "text": [
      "0.9698823289099254\n"
     ]
    }
   ],
   "source": [
    "#train세트에서의 결정계수 값\n",
    "print(knr.score(train_input, train_target))\n",
    "\n",
    "#테스트세트: 0.992809406101064\n",
    "#훈련세트: 0.9698823289099254\n",
    "#여기까지 예제 문제는 테스트세트>훈련세트로 과소적합 --> 모델을 복잡하게 만들자 --> 이웃의 개수 k를 줄이자"
   ]
  },
  {
   "cell_type": "code",
   "execution_count": 13,
   "id": "aedd0626",
   "metadata": {},
   "outputs": [
    {
     "name": "stdout",
     "output_type": "stream",
     "text": [
      "0.9804899950518966\n"
     ]
    }
   ],
   "source": [
    "#모델을 복잡하게 만들기 위해 K의 수를 5에서 3으로 줄임\n",
    "knr.n_neighbors=3\n",
    "knr.fit(train_input, train_target)\n",
    "print(knr.score(train_input, train_target))"
   ]
  },
  {
   "cell_type": "code",
   "execution_count": null,
   "id": "487a4ac5",
   "metadata": {},
   "outputs": [
    {
     "name": "stdout",
     "output_type": "stream",
     "text": [
      "0.9746459963987609\n"
     ]
    }
   ],
   "source": [
    "print(knr.score(test_input,test_target))\n",
    "\n",
    "#훈련세트점수=0.9804899950518966\n",
    "#테스트세트점수=0.9746459963987609\n",
    "#이웃K값 조정 후 훈련세트>테스트세트, 두 값이 유사함으로 overfitting도 아님"
   ]
  }
 ],
 "metadata": {
  "kernelspec": {
   "display_name": "ai-study",
   "language": "python",
   "name": "python3"
  },
  "language_info": {
   "codemirror_mode": {
    "name": "ipython",
    "version": 3
   },
   "file_extension": ".py",
   "mimetype": "text/x-python",
   "name": "python",
   "nbconvert_exporter": "python",
   "pygments_lexer": "ipython3",
   "version": "3.10.18"
  }
 },
 "nbformat": 4,
 "nbformat_minor": 5
}
